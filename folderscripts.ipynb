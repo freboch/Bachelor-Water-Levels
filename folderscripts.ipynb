{
 "cells": [
  {
   "cell_type": "code",
   "execution_count": 9,
   "id": "b9de2482-2f50-4936-a5ec-9b25365c647a",
   "metadata": {},
   "outputs": [],
   "source": [
    "import os\n",
    "import pandas as pd\n",
    "import numpy as np"
   ]
  },
  {
   "cell_type": "code",
   "execution_count": 10,
   "id": "33dbedff-cc87-407c-a065-00b8d3c33b71",
   "metadata": {},
   "outputs": [],
   "source": [
    "folder = r\"C:\\Users\\frede\\OneDrive\\Dokumenter\\DTU\\bachelor\\data\\ts_lakes\"\n",
    "file = r\"\\ts_lakes_list.txt\"\n",
    "path = folder + file\n",
    "lake_id_df = pd.read_csv(path,\n",
    "                engine='python',\n",
    "                header=None)\n",
    "lake_id_df = lake_id_df.drop(labels=5140, axis=0)"
   ]
  },
  {
   "cell_type": "code",
   "execution_count": 11,
   "id": "5c173c64-a5c4-4647-85ff-69a3098b230f",
   "metadata": {},
   "outputs": [
    {
     "data": {
      "text/html": [
       "<div>\n",
       "<style scoped>\n",
       "    .dataframe tbody tr th:only-of-type {\n",
       "        vertical-align: middle;\n",
       "    }\n",
       "\n",
       "    .dataframe tbody tr th {\n",
       "        vertical-align: top;\n",
       "    }\n",
       "\n",
       "    .dataframe thead th {\n",
       "        text-align: right;\n",
       "    }\n",
       "</style>\n",
       "<table border=\"1\" class=\"dataframe\">\n",
       "  <thead>\n",
       "    <tr style=\"text-align: right;\">\n",
       "      <th></th>\n",
       "      <th>0</th>\n",
       "    </tr>\n",
       "  </thead>\n",
       "  <tbody>\n",
       "    <tr>\n",
       "      <th>0</th>\n",
       "      <td>1140000602</td>\n",
       "    </tr>\n",
       "    <tr>\n",
       "      <th>1</th>\n",
       "      <td>1150000822</td>\n",
       "    </tr>\n",
       "    <tr>\n",
       "      <th>2</th>\n",
       "      <td>1150001092</td>\n",
       "    </tr>\n",
       "    <tr>\n",
       "      <th>3</th>\n",
       "      <td>1150002502</td>\n",
       "    </tr>\n",
       "    <tr>\n",
       "      <th>4</th>\n",
       "      <td>1150002582</td>\n",
       "    </tr>\n",
       "  </tbody>\n",
       "</table>\n",
       "</div>"
      ],
      "text/plain": [
       "            0\n",
       "0  1140000602\n",
       "1  1150000822\n",
       "2  1150001092\n",
       "3  1150002502\n",
       "4  1150002582"
      ]
     },
     "execution_count": 11,
     "metadata": {},
     "output_type": "execute_result"
    }
   ],
   "source": [
    "lake_id_df.head()"
   ]
  },
  {
   "cell_type": "code",
   "execution_count": 12,
   "id": "f0c86bdb-47a8-4571-aa97-864e5b226fc5",
   "metadata": {},
   "outputs": [
    {
     "name": "stdout",
     "output_type": "stream",
     "text": [
      "<class 'pandas.core.frame.DataFrame'>\n",
      "Int64Index: 5140 entries, 0 to 5139\n",
      "Data columns (total 1 columns):\n",
      " #   Column  Non-Null Count  Dtype \n",
      "---  ------  --------------  ----- \n",
      " 0   0       5140 non-null   object\n",
      "dtypes: object(1)\n",
      "memory usage: 80.3+ KB\n"
     ]
    }
   ],
   "source": [
    "lake_id_df.info()"
   ]
  },
  {
   "cell_type": "code",
   "execution_count": 13,
   "id": "108d67c2-363f-4b63-b9d2-c7ad89c76181",
   "metadata": {},
   "outputs": [
    {
     "data": {
      "text/plain": [
       "0"
      ]
     },
     "execution_count": 13,
     "metadata": {},
     "output_type": "execute_result"
    }
   ],
   "source": [
    "lakefolder = folder +\"\\\\\"+ lake_id_df[0][0]\n",
    "filename = lakefolder + \"\\lake_dir.txt\"\n",
    "os.system(f'cmd /k \"cd {lakefolder} & dir /b /s > {filename}\"')\n",
    "\n"
   ]
  },
  {
   "cell_type": "code",
   "execution_count": 14,
   "id": "864c3480-bb5b-4d58-9797-41223b24023d",
   "metadata": {},
   "outputs": [],
   "source": [
    "for index, row in lake_id_df.iterrows():\n",
    "    lakefolder = folder +\"\\\\\"+ row[0]\n",
    "    filename = lakefolder + \"\\lake_dir.txt\"\n",
    "    os.system(f'cmd /k \"cd {lakefolder} & dir /b > {filename}\"')"
   ]
  },
  {
   "cell_type": "code",
   "execution_count": null,
   "id": "affcfd10-8322-4307-acdb-fdcca5629a05",
   "metadata": {},
   "outputs": [],
   "source": []
  },
  {
   "cell_type": "code",
   "execution_count": null,
   "id": "822dea1f-60aa-467a-b4cd-6806121ba373",
   "metadata": {},
   "outputs": [],
   "source": []
  },
  {
   "cell_type": "code",
   "execution_count": null,
   "id": "a83d9216-11f8-436f-b420-d19caed01717",
   "metadata": {},
   "outputs": [],
   "source": []
  }
 ],
 "metadata": {
  "kernelspec": {
   "display_name": "Python 3 (ipykernel)",
   "language": "python",
   "name": "python3"
  },
  "language_info": {
   "codemirror_mode": {
    "name": "ipython",
    "version": 3
   },
   "file_extension": ".py",
   "mimetype": "text/x-python",
   "name": "python",
   "nbconvert_exporter": "python",
   "pygments_lexer": "ipython3",
   "version": "3.10.6"
  },
  "toc-autonumbering": false,
  "toc-showcode": false,
  "toc-showmarkdowntxt": false
 },
 "nbformat": 4,
 "nbformat_minor": 5
}
