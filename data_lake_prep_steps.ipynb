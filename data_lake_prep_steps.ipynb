{
 "cells": [
  {
   "cell_type": "code",
   "execution_count": 11,
   "id": "2521a298-586c-4da7-80c3-fc04d9edc2ec",
   "metadata": {},
   "outputs": [],
   "source": [
    "import pickle\n",
    "import numpy as np\n",
    "\n",
    "from prep_lake_data import *\n",
    "from eval_model_plots import plot_data"
   ]
  },
  {
   "cell_type": "code",
   "execution_count": 2,
   "id": "dde5b61e-31d5-41d2-94b0-d776190cbc48",
   "metadata": {},
   "outputs": [],
   "source": [
    "# Get original lake data dictionary from \"data_dict_build.ipynb\"\n",
    "with open(f'saves/lake_data_dicts.pkl', 'rb') as f:\n",
    "            data = pickle.load(f)"
   ]
  },
  {
   "cell_type": "code",
   "execution_count": 3,
   "id": "ebedec8b-ae03-4e78-855e-608e98e6917f",
   "metadata": {},
   "outputs": [
    {
     "name": "stdout",
     "output_type": "stream",
     "text": [
      "Non negative wlts: 9101/9558, lakes with NN wlts: 4717/5032\n"
     ]
    }
   ],
   "source": [
    "# flag wlts' with negative water levels\n",
    "data_nn = nn_lake_dict(data)"
   ]
  },
  {
   "cell_type": "code",
   "execution_count": 5,
   "id": "2d3d026e-0a9b-42e5-a303-3a2ebc957a96",
   "metadata": {},
   "outputs": [
    {
     "name": "stdout",
     "output_type": "stream",
     "text": [
      "wlts removed total: 2805.0/9101 for not whole range: 1219.0, too short: 49.0,  many gaps in cycle: 944.0, big holes in cycle: 57.0, SigmaObs: 536.0\n",
      "lakes: 3752\n"
     ]
    }
   ],
   "source": [
    "# create interpolated wlts\n",
    "start = 2019\n",
    "new_time = np.arange(start,2023,1/12)  \n",
    "data_nn_interpolated = interpolate_n_clip(new_time, data_nn)"
   ]
  },
  {
   "cell_type": "code",
   "execution_count": 6,
   "id": "58478d3d-9f16-4046-b016-3a9542c88c23",
   "metadata": {},
   "outputs": [
    {
     "data": {
      "text/plain": [
       "2022.916666666663"
      ]
     },
     "execution_count": 6,
     "metadata": {},
     "output_type": "execute_result"
    }
   ],
   "source": [
    "new_time[-1]"
   ]
  },
  {
   "cell_type": "code",
   "execution_count": 7,
   "id": "6d2c7cc7-95b9-409f-9943-52f4a8ff3435",
   "metadata": {},
   "outputs": [],
   "source": [
    "# prepare data on format for models + get weights\n",
    "X, X_ids, W = prep_lake(data_nn_interpolated)"
   ]
  },
  {
   "cell_type": "code",
   "execution_count": 8,
   "id": "cf843d21-1612-4c79-ae93-186d31744f81",
   "metadata": {},
   "outputs": [
    {
     "data": {
      "text/plain": [
       "torch.Size([6296, 48])"
      ]
     },
     "execution_count": 8,
     "metadata": {},
     "output_type": "execute_result"
    }
   ],
   "source": [
    "X.shape"
   ]
  },
  {
   "cell_type": "code",
   "execution_count": 9,
   "id": "24f1dde7-8f93-432d-ba80-359a9d2b7f02",
   "metadata": {},
   "outputs": [
    {
     "name": "stdout",
     "output_type": "stream",
     "text": [
      "Non negative wlts: 9101/9558, lakes with NN wlts: 4717/5032\n",
      "wlts removed total: 2805.0/9101 for not whole range: 1219.0, too short: 49.0,  many gaps in cycle: 944.0, big holes in cycle: 57.0, SigmaObs: 536.0\n",
      "lakes: 3752\n",
      "X shape: torch.Size([6296, 48])\n"
     ]
    }
   ],
   "source": [
    "# all in one\n",
    "with open(f'saves/lake_data_dicts.pkl', 'rb') as f:\n",
    "            data = pickle.load(f)\n",
    "start = 2019\n",
    "new_time = np.arange(start,2023,1/12)  \n",
    "X, X_ids, W = full_lake_data_prep(data, new_time, select=False)"
   ]
  },
  {
   "cell_type": "code",
   "execution_count": null,
   "id": "5f73f3c3-2650-4a23-a966-e87e7ee0f883",
   "metadata": {},
   "outputs": [],
   "source": []
  },
  {
   "cell_type": "code",
   "execution_count": null,
   "id": "32af2dea-b3dd-40af-bde4-b073df2227bf",
   "metadata": {},
   "outputs": [],
   "source": []
  },
  {
   "cell_type": "code",
   "execution_count": 8,
   "id": "0dda8c19-d103-4696-8e8e-5ba1548d9216",
   "metadata": {},
   "outputs": [
    {
     "name": "stdout",
     "output_type": "stream",
     "text": [
      "Non negative wlts: 112/112, lakes with NN wlts: 5/5\n",
      "lakes removed total: 12.0/112 for not whole range: 11.0, too short: 0.0,  many gaps in cycle: 0.0, big holes in cycle: 0.0, SigmaObs: 1.0\n"
     ]
    },
    {
     "data": {
      "text/plain": [
       "torch.Size([100, 48])"
      ]
     },
     "execution_count": 8,
     "metadata": {},
     "output_type": "execute_result"
    }
   ],
   "source": [
    "# select smaller area of lakes\n",
    "data_select = select_lakes(data)\n",
    "data_select_nn = nn_lake_dict(data_select)\n",
    "start = 2019\n",
    "new_time = np.arange(start,2023,1/12)  \n",
    "data_select_nn_interpolated = interpolate_n_clip(new_time, data_select_nn)\n",
    "X_select, X_ids_select, W_select = prep_lake(data_select_nn_interpolated)\n",
    "X_select.shape"
   ]
  },
  {
   "cell_type": "code",
   "execution_count": 15,
   "id": "c5a347ad-e6df-4024-8a85-856f27f314b9",
   "metadata": {},
   "outputs": [
    {
     "name": "stdout",
     "output_type": "stream",
     "text": [
      "Non negative wlts: 112/112, lakes with NN wlts: 5/5\n",
      "wlts removed total: 12.0/112 for not whole range: 11.0, too short: 0.0,  many gaps in cycle: 0.0, big holes in cycle: 0.0, SigmaObs: 1.0\n",
      "lakes: 5\n",
      "X shape: torch.Size([100, 48])\n"
     ]
    }
   ],
   "source": [
    "# all in one select\n",
    "with open(f'saves/lake_data_dicts.pkl', 'rb') as f:\n",
    "            data = pickle.load(f)\n",
    "start = 2019\n",
    "new_time = np.arange(start,2023,1/12)  \n",
    "X, X_ids, W = full_lake_data_prep(data, new_time, select=True)"
   ]
  },
  {
   "cell_type": "code",
   "execution_count": null,
   "id": "6969e3b8-41f0-4149-8ebb-a156ee57a95f",
   "metadata": {},
   "outputs": [],
   "source": []
  },
  {
   "cell_type": "code",
   "execution_count": null,
   "id": "7d83b052-9f16-4871-aeb0-2c74502845bf",
   "metadata": {},
   "outputs": [],
   "source": []
  }
 ],
 "metadata": {
  "kernelspec": {
   "display_name": "Python 3 (ipykernel)",
   "language": "python",
   "name": "python3"
  },
  "language_info": {
   "codemirror_mode": {
    "name": "ipython",
    "version": 3
   },
   "file_extension": ".py",
   "mimetype": "text/x-python",
   "name": "python",
   "nbconvert_exporter": "python",
   "pygments_lexer": "ipython3",
   "version": "3.10.6"
  }
 },
 "nbformat": 4,
 "nbformat_minor": 5
}
