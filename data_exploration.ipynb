{
 "cells": [
  {
   "cell_type": "code",
   "execution_count": 1,
   "id": "ec1fbb1c-d481-422d-aaf3-c1aee995640f",
   "metadata": {},
   "outputs": [],
   "source": [
    "import pandas as pd\n",
    "import numpy as np\n",
    "import pickle \n",
    "import matplotlib.pyplot as plt"
   ]
  },
  {
   "cell_type": "code",
   "execution_count": 2,
   "id": "126eb9f1-cb38-4b66-bc59-141af2c5deb0",
   "metadata": {},
   "outputs": [],
   "source": [
    "# to open file\n",
    "with open(f'saves/lake_data_dicts.pkl', 'rb') as f:\n",
    "    data = pickle.load(f)"
   ]
  },
  {
   "cell_type": "code",
   "execution_count": 3,
   "id": "35defc40-3076-4d51-882e-274cd358a165",
   "metadata": {},
   "outputs": [
    {
     "data": {
      "text/plain": [
       "5140"
      ]
     },
     "execution_count": 3,
     "metadata": {},
     "output_type": "execute_result"
    }
   ],
   "source": [
    "# all lake id's \n",
    "len(data.keys())"
   ]
  },
  {
   "cell_type": "markdown",
   "id": "3c29b436-6624-4e7a-b939-a7e568e20c87",
   "metadata": {},
   "source": [
    "## Inside look at a lake dictionary"
   ]
  },
  {
   "cell_type": "code",
   "execution_count": 4,
   "id": "c0f357e6-0d1e-4b3a-bbf3-aa7893afe930",
   "metadata": {},
   "outputs": [
    {
     "data": {
      "text/plain": [
       "dict_keys(['name', 'sats', 'tracks', 'wlts', 'extr', 'conv'])"
      ]
     },
     "execution_count": 4,
     "metadata": {},
     "output_type": "execute_result"
    }
   ],
   "source": [
    "# \"inside\" look of a lake dictionary\n",
    "ex_lake = list(data.keys())[0]\n",
    "data[ex_lake].keys()"
   ]
  },
  {
   "cell_type": "code",
   "execution_count": 5,
   "id": "9a10addc-e601-42b1-b79a-e6fa6820203a",
   "metadata": {},
   "outputs": [
    {
     "data": {
      "text/plain": [
       "'LAKE INGIA'"
      ]
     },
     "execution_count": 5,
     "metadata": {},
     "output_type": "execute_result"
    }
   ],
   "source": [
    "data[ex_lake]['name']"
   ]
  },
  {
   "cell_type": "code",
   "execution_count": 6,
   "id": "66c5ffd1-8d2c-4199-b940-71fd6e1bcaa0",
   "metadata": {},
   "outputs": [
    {
     "data": {
      "text/plain": [
       "['S3A']"
      ]
     },
     "execution_count": 6,
     "metadata": {},
     "output_type": "execute_result"
    }
   ],
   "source": [
    "data[ex_lake]['sats']"
   ]
  },
  {
   "cell_type": "code",
   "execution_count": 7,
   "id": "2303dd4f-815b-4c9a-87ea-3913221645f8",
   "metadata": {},
   "outputs": [
    {
     "data": {
      "text/plain": [
       "['141']"
      ]
     },
     "execution_count": 7,
     "metadata": {},
     "output_type": "execute_result"
    }
   ],
   "source": [
    "data[ex_lake]['tracks']"
   ]
  },
  {
   "cell_type": "code",
   "execution_count": 8,
   "id": "d414ec83-cd41-4c31-b0ac-c8e464d1dd88",
   "metadata": {},
   "outputs": [
    {
     "data": {
      "text/plain": [
       "[        time           wl      wlsd\n",
       " 0   2016.297  2319.433730  0.138759\n",
       " 1   2016.371  2319.898838  0.137995\n",
       " 2   2016.445  2319.656873  0.084807\n",
       " 3   2016.519  2320.456965  0.073194\n",
       " 4   2016.592  2322.659886  0.073185\n",
       " ..       ...          ...       ...\n",
       " 72  2022.654  2322.722921  0.206910\n",
       " 73  2022.728  2325.920330  0.138795\n",
       " 74  2022.802  2327.244563  0.084403\n",
       " 75  2022.876  2327.232983  0.105314\n",
       " 76  2022.950  2326.720682  0.104958\n",
       " \n",
       " [77 rows x 3 columns]]"
      ]
     },
     "execution_count": 8,
     "metadata": {},
     "output_type": "execute_result"
    }
   ],
   "source": [
    "data[ex_lake]['wlts']"
   ]
  },
  {
   "cell_type": "code",
   "execution_count": 9,
   "id": "a859d7b1-ef84-473b-8d6f-cdba1a0276fc",
   "metadata": {},
   "outputs": [
    {
     "data": {
      "text/plain": [
       "[       timeu  cycle       lat       long\n",
       " 0   2016.297      3  7.102183  39.252601\n",
       " 1   2016.371      4  7.100635  39.250301\n",
       " 2   2016.445      5  7.084376  39.260724\n",
       " 3   2016.519      6  7.083862  39.261744\n",
       " 4   2016.592      7  7.085631  39.263085\n",
       " ..       ...    ...       ...        ...\n",
       " 72  2022.654     89  7.084598  39.255327\n",
       " 73  2022.728     90  7.068453  39.258645\n",
       " 74  2022.802     91  7.080166  39.259940\n",
       " 75  2022.876     92  7.083377  39.260097\n",
       " 76  2022.950     93  7.085680  39.256854\n",
       " \n",
       " [77 rows x 4 columns]]"
      ]
     },
     "execution_count": 9,
     "metadata": {},
     "output_type": "execute_result"
    }
   ],
   "source": [
    "data[ex_lake]['extr']"
   ]
  },
  {
   "cell_type": "code",
   "execution_count": 10,
   "id": "de0141eb-4b8e-403d-987b-f73069d3875f",
   "metadata": {},
   "outputs": [
    {
     "data": {
      "text/plain": [
       "[   SigmaObs  SigmaRW  conv                message\n",
       " 0  0.145119  4.59913     1  false convergence (8)]"
      ]
     },
     "execution_count": 10,
     "metadata": {},
     "output_type": "execute_result"
    }
   ],
   "source": [
    "data[ex_lake]['conv']"
   ]
  },
  {
   "cell_type": "markdown",
   "id": "8e12a5db-c327-4f48-be88-934765ef86eb",
   "metadata": {},
   "source": [
    "## Data summary"
   ]
  },
  {
   "cell_type": "markdown",
   "id": "c8c9286b-3be2-4867-acf6-8ecc8801fc30",
   "metadata": {},
   "source": [
    "### Model convergence"
   ]
  },
  {
   "cell_type": "code",
   "execution_count": 11,
   "id": "80e007a1-9dc3-46d3-b293-b9295ddf2afd",
   "metadata": {},
   "outputs": [],
   "source": [
    "# model convergence\n",
    "conv = []\n",
    "non_conv = []\n",
    "for lake in data.keys():\n",
    "    count = 0\n",
    "    count_n = 0\n",
    "    for conv_tab in data[lake]['conv']:\n",
    "        if conv_tab.conv[0]==0:\n",
    "            count +=1\n",
    "        if conv_tab.conv[0]==1:\n",
    "            count_n +=1\n",
    "    conv.append(count)\n",
    "    non_conv.append(count_n)"
   ]
  },
  {
   "cell_type": "code",
   "execution_count": 12,
   "id": "43bc1209-6387-4549-a555-6d821a2d17f1",
   "metadata": {},
   "outputs": [
    {
     "data": {
      "text/plain": [
       "9098"
      ]
     },
     "execution_count": 12,
     "metadata": {},
     "output_type": "execute_result"
    }
   ],
   "source": [
    "# total number of converged models\n",
    "sum(conv)"
   ]
  },
  {
   "cell_type": "code",
   "execution_count": 13,
   "id": "b989a78f-ea10-4f13-b95f-d667196cf7e7",
   "metadata": {},
   "outputs": [
    {
     "data": {
      "text/plain": [
       "4880"
      ]
     },
     "execution_count": 13,
     "metadata": {},
     "output_type": "execute_result"
    }
   ],
   "source": [
    "# lakes with one or more converged models\n",
    "np.count_nonzero(conv)"
   ]
  },
  {
   "cell_type": "code",
   "execution_count": 14,
   "id": "4dc3f8e7-45a2-4af5-86e8-d157b4dd9bcd",
   "metadata": {},
   "outputs": [
    {
     "data": {
      "text/plain": [
       "(array([ 0,  1,  2,  3,  4,  5,  6,  7,  8,  9, 10, 11, 12, 13, 14, 15, 16,\n",
       "        17, 20, 21, 23, 25, 27, 32, 34, 36, 37]),\n",
       " array([ 260, 2615, 1630,  250,  163,   68,   48,   27,   23,   11,   11,\n",
       "           4,    6,    3,    2,    3,    3,    2,    1,    2,    1,    2,\n",
       "           1,    1,    1,    1,    1], dtype=int64))"
      ]
     },
     "execution_count": 14,
     "metadata": {},
     "output_type": "execute_result"
    }
   ],
   "source": [
    "# number of converged models\n",
    "conv_count_u = np.unique(conv, return_counts=True)\n",
    "conv_count_u"
   ]
  },
  {
   "cell_type": "code",
   "execution_count": 15,
   "id": "3bdf9f09-24bc-4c65-a7b4-d12d8a029939",
   "metadata": {},
   "outputs": [
    {
     "data": {
      "text/plain": [
       "(array([0, 1, 2]), array([4693,  434,   13], dtype=int64))"
      ]
     },
     "execution_count": 15,
     "metadata": {},
     "output_type": "execute_result"
    }
   ],
   "source": [
    "# number of not converged models\n",
    "np.unique(non_conv, return_counts=True)"
   ]
  },
  {
   "cell_type": "code",
   "execution_count": 16,
   "id": "cb40cfd4-575d-4ce1-bb3f-01db2c4255c1",
   "metadata": {},
   "outputs": [
    {
     "data": {
      "image/png": "[encoded data removed]",
      "text/plain": [
       "<Figure size 800x500 with 1 Axes>"
      ]
     },
     "metadata": {},
     "output_type": "display_data"
    }
   ],
   "source": [
    "fig, ax = plt.subplots(1, 1,figsize=(8, 5))\n",
    "#ax.hist(lake_id_df.wlts_count, bins=np.arange(0,38,1))\n",
    "ax.bar(conv_count_u[0],conv_count_u[1])\n",
    "#fig.suptitle(f'Number of converged models per lake', fontsize=16)\n",
    "ax.set_title(\"Number of converged models per lake\", fontsize=16)\n",
    "ax.set_xlabel(\"Number of converged models\")\n",
    "ax.set_ylabel(\"Lake count\")\n",
    "#ax.set_yscale('log')\n",
    "plt.savefig(f\"plots/hist_conv.png\", \n",
    "            bbox_inches='tight', facecolor =\"w\", dpi=200)\n",
    "plt.show()"
   ]
  },
  {
   "cell_type": "markdown",
   "id": "c041ff59-6d1b-4cc9-b3cd-e927161842c5",
   "metadata": {},
   "source": [
    "### time series per lake"
   ]
  },
  {
   "cell_type": "code",
   "execution_count": 17,
   "id": "3612c4c3-fed2-4362-bff2-92ff4bec51c4",
   "metadata": {},
   "outputs": [],
   "source": [
    "# count time series per lake\n",
    "wlts_count = [len(data[lake]['wlts']) for lake in data.keys()]"
   ]
  },
  {
   "cell_type": "code",
   "execution_count": 18,
   "id": "cdeb4789-d407-4615-8a2b-0c0e3537fa6c",
   "metadata": {},
   "outputs": [
    {
     "data": {
      "text/plain": [
       "5032"
      ]
     },
     "execution_count": 18,
     "metadata": {},
     "output_type": "execute_result"
    }
   ],
   "source": [
    "# lakes with one or more time series\n",
    "np.count_nonzero(wlts_count)"
   ]
  },
  {
   "cell_type": "code",
   "execution_count": 19,
   "id": "a63a86d8-fc46-4328-ac40-eed22fbb6208",
   "metadata": {},
   "outputs": [
    {
     "data": {
      "text/plain": [
       "9558"
      ]
     },
     "execution_count": 19,
     "metadata": {},
     "output_type": "execute_result"
    }
   ],
   "source": [
    "# total number of time series\n",
    "sum(wlts_count)"
   ]
  },
  {
   "cell_type": "code",
   "execution_count": 20,
   "id": "7493e697-77d9-44d3-a3fa-7602f099b321",
   "metadata": {},
   "outputs": [
    {
     "data": {
      "text/plain": [
       "(array([ 0,  1,  2,  3,  4,  5,  6,  7,  8,  9, 10, 11, 12, 13, 14, 15, 16,\n",
       "        17, 18, 20, 21, 22, 24, 25, 26, 27, 33, 34, 36, 37]),\n",
       " array([ 108, 2585, 1763,  267,  185,   69,   52,   30,   19,   15,   12,\n",
       "           4,    6,    3,    3,    2,    3,    2,    1,    1,    1,    1,\n",
       "           1,    1,    1,    1,    1,    1,    1,    1], dtype=int64))"
      ]
     },
     "execution_count": 20,
     "metadata": {},
     "output_type": "execute_result"
    }
   ],
   "source": [
    "wlts_count_u = np.unique(wlts_count, return_counts=True)\n",
    "wlts_count_u"
   ]
  },
  {
   "cell_type": "code",
   "execution_count": 21,
   "id": "a5d2f52f-f62a-45c4-beea-d5bf67184ee3",
   "metadata": {},
   "outputs": [
    {
     "data": {
      "image/png": "[encoded data removed]",
      "text/plain": [
       "<Figure size 800x500 with 1 Axes>"
      ]
     },
     "metadata": {},
     "output_type": "display_data"
    }
   ],
   "source": [
    "fig, ax = plt.subplots(1, 1,figsize=(8, 5))\n",
    "#ax.hist(lake_id_df.wlts_count, bins=np.arange(0,38,1))\n",
    "ax.bar(wlts_count_u[0],wlts_count_u[1])\n",
    "#fig.suptitle(f'Number of converged models per lake', fontsize=16)\n",
    "ax.set_title(\"Number of water level time series per lake\", fontsize=16)\n",
    "ax.set_xlabel(\"Number of time series\")\n",
    "ax.set_ylabel(\"Lake count\")\n",
    "#ax.set_yscale('log')\n",
    "plt.savefig(f\"plots/hist_wlts.png\", \n",
    "            bbox_inches='tight', facecolor =\"w\", dpi=200)\n",
    "plt.show()"
   ]
  },
  {
   "cell_type": "markdown",
   "id": "e4fd05f0-6d99-4021-ade1-679b6409a087",
   "metadata": {},
   "source": [
    "### time series lengths and startyears"
   ]
  },
  {
   "cell_type": "code",
   "execution_count": 22,
   "id": "40f47a21-abd5-435b-b05c-9935e524959a",
   "metadata": {},
   "outputs": [],
   "source": [
    "# length of time series\n",
    "wlts_len = []\n",
    "for lake in data.keys():\n",
    "    for wlts in data[lake]['wlts']:\n",
    "        wlts_len.append(len(wlts))"
   ]
  },
  {
   "cell_type": "code",
   "execution_count": 23,
   "id": "abf27d74-b857-4c95-a19c-66f2a119bc1a",
   "metadata": {},
   "outputs": [
    {
     "data": {
      "text/plain": [
       "(array([13, 14, 15, 16, 17, 18, 19, 20, 21, 22, 23, 24, 25, 26, 27, 28, 29,\n",
       "        30, 31, 32, 33, 34, 35, 36, 37, 38, 39, 40, 41, 42, 43, 44, 45, 46,\n",
       "        47, 48, 49, 50, 51, 52, 53, 54, 55, 56, 57, 58, 59, 60, 61, 62, 63,\n",
       "        64, 65, 66, 67, 68, 69, 70, 71, 72, 73, 74, 75, 76, 77, 78, 79, 80,\n",
       "        81, 82, 83, 84, 85, 86, 87, 88, 89, 90, 91, 92, 93]),\n",
       " array([  20,   31,   26,   28,   25,   27,   20,   20,   21,   26,   33,\n",
       "          22,   22,   23,   24,   15,   37,   33,   25,   32,   31,   30,\n",
       "          23,   31,   37,   31,   42,   30,   38,   39,   43,   35,   44,\n",
       "          48,   49,   60,   67,   66,   64,   99,  174,  781, 1326,  580,\n",
       "          50,   68,  200,  321,  202,  104,   12,   12,   14,   21,   22,\n",
       "          23,   19,   16,   24,   27,   24,   31,   32,   32,   31,   35,\n",
       "          31,   50,   22,   34,   47,   54,   66,  100,  105,  218,  624,\n",
       "         870, 1126,  535,   78], dtype=int64))"
      ]
     },
     "execution_count": 23,
     "metadata": {},
     "output_type": "execute_result"
    }
   ],
   "source": [
    "wlts_len_u = np.unique(wlts_len, return_counts=True)\n",
    "wlts_len_u"
   ]
  },
  {
   "cell_type": "code",
   "execution_count": 24,
   "id": "2cc5b798-e83a-4336-a91d-2158b9d088d6",
   "metadata": {},
   "outputs": [
    {
     "data": {
      "image/png": "[encoded data removed]",
      "text/plain": [
       "<Figure size 800x500 with 1 Axes>"
      ]
     },
     "metadata": {},
     "output_type": "display_data"
    }
   ],
   "source": [
    "fig, ax = plt.subplots(1, 1,figsize=(8, 5))\n",
    "#ax.hist(wlts_len,bins=np.arange(0,101,1))\n",
    "ax.bar(wlts_len_u[0],wlts_len_u[1])\n",
    "#fig.suptitle(f'Number of converged models per lake', fontsize=16)\n",
    "ax.set_title(\"Time series lengths\", fontsize=16)\n",
    "ax.set_xlabel(\"Number of observations in time series\")\n",
    "ax.set_ylabel(\"Time series count\")\n",
    "plt.savefig(f\"plots/hist_wlts_length.png\", \n",
    "            bbox_inches='tight', facecolor =\"w\", dpi=200)\n",
    "plt.show()"
   ]
  },
  {
   "cell_type": "code",
   "execution_count": 25,
   "id": "c9d21554-eee9-48ac-a560-0000042a235b",
   "metadata": {},
   "outputs": [
    {
     "data": {
      "text/plain": [
       "array([9558, 9538, 9507, 9481, 9453, 9428, 9401, 9381, 9361, 9340, 9314,\n",
       "       9281, 9259, 9237, 9214, 9190, 9175, 9138, 9105, 9080, 9048, 9017,\n",
       "       8987, 8964, 8933, 8896, 8865, 8823, 8793, 8755, 8716, 8673, 8638,\n",
       "       8594, 8546, 8497, 8437, 8370, 8304, 8240, 8141, 7967, 7186, 5860,\n",
       "       5280, 5230, 5162, 4962, 4641, 4439, 4335, 4323, 4311, 4297, 4276,\n",
       "       4254, 4231, 4212, 4196, 4172, 4145, 4121, 4090, 4058, 4026, 3995,\n",
       "       3960, 3929, 3879, 3857, 3823, 3776, 3722, 3656, 3556, 3451, 3233,\n",
       "       2609, 1739,  613,   78], dtype=int64)"
      ]
     },
     "execution_count": 25,
     "metadata": {},
     "output_type": "execute_result"
    }
   ],
   "source": [
    "# accumulated time series \n",
    "# aka how many series has 1 or more, 2 or more, 3 or more etc observations\n",
    "wlts_len_u_cum = np.flip(np.cumsum(np.flip(wlts_len_u[1])))\n",
    "wlts_len_u_cum"
   ]
  },
  {
   "cell_type": "code",
   "execution_count": 26,
   "id": "0a950153-993b-4fd0-896c-70d967e03f71",
   "metadata": {},
   "outputs": [
    {
     "data": {
      "text/plain": [
       "89"
      ]
     },
     "execution_count": 26,
     "metadata": {},
     "output_type": "execute_result"
    }
   ],
   "source": [
    "idx = 76\n",
    "wlts_len_u[0][idx]"
   ]
  },
  {
   "cell_type": "code",
   "execution_count": 27,
   "id": "42dc62d3-5c82-4b7d-9ba6-09f3f11a9425",
   "metadata": {},
   "outputs": [
    {
     "data": {
      "text/plain": [
       "3233"
      ]
     },
     "execution_count": 27,
     "metadata": {},
     "output_type": "execute_result"
    }
   ],
   "source": [
    "wlts_len_u_cum[idx]"
   ]
  },
  {
   "cell_type": "code",
   "execution_count": 28,
   "id": "48a88691-ea63-4599-8fd8-dc935dc11830",
   "metadata": {},
   "outputs": [
    {
     "data": {
      "image/png": "[encoded data removed]",
      "text/plain": [
       "<Figure size 800x500 with 1 Axes>"
      ]
     },
     "metadata": {},
     "output_type": "display_data"
    }
   ],
   "source": [
    "fig, ax = plt.subplots(1, 1,figsize=(8, 5))\n",
    "#ax.hist(wlts_len,bins=np.arange(0,101,1))\n",
    "ax.bar(wlts_len_u[0],wlts_len_u_cum)\n",
    "#fig.suptitle(f'Number of converged models per lake', fontsize=16)\n",
    "ax.set_title(\"Time series with x or more observations\", fontsize=16)\n",
    "ax.set_xlabel(\"Number of observations\")\n",
    "ax.set_ylabel(\"Time series count\")\n",
    "plt.savefig(f\"plots/hist_wlts_length_cum.png\", \n",
    "            bbox_inches='tight', facecolor =\"w\", dpi=200)\n",
    "plt.show()"
   ]
  },
  {
   "cell_type": "code",
   "execution_count": 29,
   "id": "934761a1-bfe4-4445-baf0-0f576f821443",
   "metadata": {},
   "outputs": [],
   "source": [
    "# first year of time series\n",
    "wlts_year1 = []\n",
    "for lake in data.keys():\n",
    "    for wlts in data[lake]['wlts']:\n",
    "        wlts_year1.append(int(wlts.time[0]))"
   ]
  },
  {
   "cell_type": "code",
   "execution_count": 30,
   "id": "c8e795be-e49b-4933-a4db-c6ef514f429b",
   "metadata": {},
   "outputs": [
    {
     "data": {
      "text/plain": [
       "(array([2016, 2017, 2018, 2019, 2020]),\n",
       " array([4846,    6, 4489,  207,   10], dtype=int64))"
      ]
     },
     "execution_count": 30,
     "metadata": {},
     "output_type": "execute_result"
    }
   ],
   "source": [
    "wlts_year1_u = np.unique(wlts_year1, return_counts=True)\n",
    "wlts_year1_u"
   ]
  },
  {
   "cell_type": "code",
   "execution_count": 31,
   "id": "b4062572-5aca-4872-a9b1-df1efd798bee",
   "metadata": {},
   "outputs": [
    {
     "data": {
      "image/png": "[encoded data removed]",
      "text/plain": [
       "<Figure size 800x500 with 1 Axes>"
      ]
     },
     "metadata": {},
     "output_type": "display_data"
    }
   ],
   "source": [
    "fig, ax = plt.subplots(1, 1,figsize=(8, 5))\n",
    "#ax.hist(years, bins=np.arange(2016,2024,1), rwidth=0.9)\n",
    "ax.bar(wlts_year1_u[0], wlts_year1_u[1])\n",
    "#fig.suptitle(f'Number of converged models per lake', fontsize=16)\n",
    "ax.set_title(\"Water level time series start years\", fontsize=16)\n",
    "ax.set_xlabel(\"Year\")\n",
    "ax.set_ylabel(\"Number of wlts\")\n",
    "plt.savefig(f\"plots/hist_year_rep.png\", \n",
    "            bbox_inches='tight', facecolor =\"w\", dpi=200)\n",
    "plt.show()"
   ]
  },
  {
   "cell_type": "markdown",
   "id": "cd38468c-4aa9-4066-8934-def34695c6db",
   "metadata": {},
   "source": [
    "### cycles"
   ]
  },
  {
   "cell_type": "code",
   "execution_count": 32,
   "id": "1b3117c2-9612-44c7-b7d3-f238804c149b",
   "metadata": {},
   "outputs": [],
   "source": [
    "all_cycles = []\n",
    "for lake in data.keys():\n",
    "    for extr in data[lake]['extr']:\n",
    "        all_cycles.extend(list(extr.cycle))"
   ]
  },
  {
   "cell_type": "code",
   "execution_count": 33,
   "id": "70588caa-5805-45a8-8585-9c6d276b1c24",
   "metadata": {},
   "outputs": [
    {
     "data": {
      "text/plain": [
       "(array([ 1,  2,  3,  4,  5,  6,  7,  8,  9, 10, 11, 12, 13, 14, 15, 16, 17,\n",
       "        18, 19, 20, 21, 22, 23, 24, 25, 26, 27, 28, 29, 30, 31, 32, 33, 34,\n",
       "        35, 36, 37, 38, 39, 40, 41, 42, 43, 44, 45, 46, 47, 48, 49, 50, 51,\n",
       "        52, 53, 54, 55, 56, 57, 58, 59, 60, 61, 62, 63, 64, 65, 66, 67, 68,\n",
       "        69, 70, 71, 72, 73, 74, 75, 76, 77, 78, 79, 80, 81, 82, 83, 84, 85,\n",
       "        86, 87, 88, 89, 90, 91, 92, 93]),\n",
       " array([1737, 4072, 4325, 4425, 4475, 4543, 4432, 4586, 5198, 5426, 5423,\n",
       "        5331, 5392, 4499, 4573, 4473, 4414, 4738, 8250, 8821, 8696, 8769,\n",
       "        8818, 8822, 8600, 8740, 8801, 8815, 8764, 8736, 8735, 8835, 8858,\n",
       "        8819, 8771, 8810, 8725, 8759, 8758, 8781, 8780, 8741, 8793, 7975,\n",
       "        8774, 8789, 8822, 8784, 8810, 8806, 8799, 8795, 8469, 7639, 8752,\n",
       "        8805, 8773, 8780, 8825, 8861, 8847, 8780, 8050, 8848, 8774, 8795,\n",
       "        8821, 8835, 8832, 8847, 8796, 8798, 7081, 7260, 4433, 4462, 4472,\n",
       "        4486, 4423, 4427, 4090, 3637, 4235, 4456, 4457, 4425, 3709, 3021,\n",
       "        3592, 4442, 4420, 4122, 4234], dtype=int64))"
      ]
     },
     "execution_count": 33,
     "metadata": {},
     "output_type": "execute_result"
    }
   ],
   "source": [
    "all_cycles_u = np.unique(all_cycles, return_counts=True)\n",
    "all_cycles_u"
   ]
  },
  {
   "cell_type": "code",
   "execution_count": 34,
   "id": "0046dc26-fd4a-4c08-99c1-925faca468c8",
   "metadata": {},
   "outputs": [
    {
     "data": {
      "image/png": "[encoded data removed]",
      "text/plain": [
       "<Figure size 800x500 with 1 Axes>"
      ]
     },
     "metadata": {},
     "output_type": "display_data"
    }
   ],
   "source": [
    "fig, ax = plt.subplots(1, 1,figsize=(8, 5))\n",
    "#ax.hist(years, bins=np.arange(2016,2024,1), rwidth=0.9)\n",
    "ax.bar(all_cycles_u[0], all_cycles_u[1])\n",
    "#fig.suptitle(f'Number of converged models per lake', fontsize=16)\n",
    "ax.set_title(\"Number of observations at each cycle\", fontsize=16)\n",
    "ax.set_xlabel(\"cycle\")\n",
    "ax.set_ylabel(\"Number of observations\")\n",
    "plt.savefig(f\"plots/hist_cycles.png\", \n",
    "            bbox_inches='tight', facecolor =\"w\", dpi=200)\n",
    "plt.show()"
   ]
  },
  {
   "cell_type": "code",
   "execution_count": null,
   "id": "5c31aced-9e6e-4561-82a4-1827273b0c78",
   "metadata": {},
   "outputs": [],
   "source": []
  },
  {
   "cell_type": "markdown",
   "id": "b3927e7c-6116-48bb-b5f4-a2999b90974f",
   "metadata": {},
   "source": [
    "### satellites"
   ]
  },
  {
   "cell_type": "code",
   "execution_count": 35,
   "id": "94260d27-1990-48d5-a969-12951c27685a",
   "metadata": {},
   "outputs": [],
   "source": [
    "# count time series per satelite\n",
    "wlts_count_A = 0\n",
    "wlts_count_B = 0\n",
    "for lake in data.keys():\n",
    "    for sat in data[lake]['sats']:\n",
    "        if sat == \"S3A\":\n",
    "            wlts_count_A+=1\n",
    "        elif sat == \"S3B\":\n",
    "            wlts_count_B+=1\n"
   ]
  },
  {
   "cell_type": "code",
   "execution_count": 36,
   "id": "a3b47b09-5ca2-4125-a3dc-8d304b111fe5",
   "metadata": {},
   "outputs": [
    {
     "data": {
      "text/plain": [
       "4854"
      ]
     },
     "execution_count": 36,
     "metadata": {},
     "output_type": "execute_result"
    }
   ],
   "source": [
    "wlts_count_A"
   ]
  },
  {
   "cell_type": "code",
   "execution_count": 37,
   "id": "918ea630-e797-4dc8-84f2-696657a0c6c5",
   "metadata": {},
   "outputs": [
    {
     "data": {
      "text/plain": [
       "4704"
      ]
     },
     "execution_count": 37,
     "metadata": {},
     "output_type": "execute_result"
    }
   ],
   "source": [
    "wlts_count_B"
   ]
  },
  {
   "cell_type": "code",
   "execution_count": null,
   "id": "38050019-f880-49ee-9d5b-72a9edb4c958",
   "metadata": {},
   "outputs": [],
   "source": []
  },
  {
   "cell_type": "markdown",
   "id": "402c18cc-9611-42ce-b94f-d13269742973",
   "metadata": {},
   "source": [
    "# standard deviation"
   ]
  },
  {
   "cell_type": "code",
   "execution_count": 130,
   "id": "a251d48b-7db2-4666-8005-8cb26d36513d",
   "metadata": {},
   "outputs": [],
   "source": [
    "all_sigmaObs = []\n",
    "all_std = []\n",
    "for lake in data.keys():\n",
    "    for i, conv in enumerate(data[lake]['conv']):\n",
    "        all_sigmaObs.append(conv.SigmaObs[0])\n",
    "        std = np.std(data[lake]['wlts'][i].wl)\n",
    "        all_std.append(std)\n"
   ]
  },
  {
   "cell_type": "code",
   "execution_count": 141,
   "id": "142255b1-e158-470f-9ab9-35455ee88957",
   "metadata": {},
   "outputs": [
    {
     "data": {
      "text/plain": [
       "6.540306798399664"
      ]
     },
     "execution_count": 141,
     "metadata": {},
     "output_type": "execute_result"
    }
   ],
   "source": [
    "np.mean(all_std)"
   ]
  },
  {
   "cell_type": "code",
   "execution_count": 143,
   "id": "0f6a7104-a876-45c3-b822-c30ed95a1b28",
   "metadata": {},
   "outputs": [
    {
     "data": {
      "text/plain": [
       "0.5167371545617505"
      ]
     },
     "execution_count": 143,
     "metadata": {},
     "output_type": "execute_result"
    }
   ],
   "source": [
    "np.median(all_std)"
   ]
  },
  {
   "cell_type": "code",
   "execution_count": 155,
   "id": "d20195ec-ea17-44e9-970e-d241b1a47bf6",
   "metadata": {},
   "outputs": [
    {
     "name": "stdout",
     "output_type": "stream",
     "text": [
      "1023\n",
      "1052\n"
     ]
    }
   ],
   "source": [
    "sig_v = 1\n",
    "std_v = 7\n",
    "count_sig = [1 for sig in all_sigmaObs if sig>sig_v]\n",
    "count_std = [1 for std in all_std if std>std_v]\n",
    "print(np.sum(count_sig))\n",
    "print(np.sum(count_std))"
   ]
  },
  {
   "cell_type": "code",
   "execution_count": 151,
   "id": "541d346e-2446-4889-b8bc-2c9724dd34b0",
   "metadata": {},
   "outputs": [],
   "source": [
    "z = np.ones(len(all_sigmaObs))"
   ]
  },
  {
   "cell_type": "code",
   "execution_count": 152,
   "id": "d6e4db39-63b1-4f6e-8d60-7d7afee92da9",
   "metadata": {},
   "outputs": [],
   "source": [
    "z[np.asarray(all_sigmaObs) <=sig_v] = 0"
   ]
  },
  {
   "cell_type": "code",
   "execution_count": 153,
   "id": "1d5ed7f1-dd81-4636-bb1a-ca09eed5cdfc",
   "metadata": {},
   "outputs": [],
   "source": [
    "z[np.asarray(all_std) <=std_v] = 0"
   ]
  },
  {
   "cell_type": "code",
   "execution_count": 154,
   "id": "0f360b1f-4b92-448a-b7f5-56e8b86e75c6",
   "metadata": {},
   "outputs": [
    {
     "data": {
      "text/plain": [
       "562.0"
      ]
     },
     "execution_count": 154,
     "metadata": {},
     "output_type": "execute_result"
    }
   ],
   "source": [
    "np.sum(z)"
   ]
  },
  {
   "cell_type": "code",
   "execution_count": null,
   "id": "ad618c92-3517-458d-804c-d6d72e8cc94e",
   "metadata": {},
   "outputs": [],
   "source": []
  }
 ],
 "metadata": {
  "kernelspec": {
   "display_name": "Python 3 (ipykernel)",
   "language": "python",
   "name": "python3"
  },
  "language_info": {
   "codemirror_mode": {
    "name": "ipython",
    "version": 3
   },
   "file_extension": ".py",
   "mimetype": "text/x-python",
   "name": "python",
   "nbconvert_exporter": "python",
   "pygments_lexer": "ipython3",
   "version": "3.10.6"
  }
 },
 "nbformat": 4,
 "nbformat_minor": 5
}
